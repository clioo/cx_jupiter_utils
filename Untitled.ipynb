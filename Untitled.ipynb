{
 "cells": [
  {
   "cell_type": "code",
   "execution_count": 1,
   "metadata": {},
   "outputs": [],
   "source": [
    "from core.config import get_settings\n",
    "from db.session import create_db_connection\n",
    "from lib.constants import AvailableDatabases\n",
    "from db.schemas.landing import tables as landing_tables\n",
    "from db.schemas.rmx import tables as rmx_tables\n"
   ]
  },
  {
   "cell_type": "code",
   "execution_count": 2,
   "id": "19fd664f",
   "metadata": {},
   "outputs": [],
   "source": [
    "settings = get_settings()"
   ]
  },
  {
   "cell_type": "code",
   "execution_count": 3,
   "id": "c698ee91",
   "metadata": {},
   "outputs": [],
   "source": [
    "session_rmx = create_db_connection(AvailableDatabases.RMX_QA)\n",
    "session_landing = create_db_connection(AvailableDatabases.LANDING_QA)\n"
   ]
  },
  {
   "cell_type": "code",
   "execution_count": 4,
   "id": "076e287c",
   "metadata": {},
   "outputs": [],
   "source": [
    "rmx_groups = session_rmx.query(rmx_tables.GroupTbl).all()\n",
    "rmx_subgroups = session_rmx.query(rmx_tables.SubGroupTbl).all()\n",
    "rmx_countries = session_rmx.query(rmx_tables.CountryCat).all()"
   ]
  },
  {
   "cell_type": "code",
   "execution_count": 5,
   "id": "f25f08d7",
   "metadata": {},
   "outputs": [
    {
     "ename": "IntegrityError",
     "evalue": "(pyodbc.IntegrityError) ('23000', \"[23000] [Microsoft][ODBC Driver 17 for SQL Server][SQL Server]Violation of PRIMARY KEY constraint 'PK__CountryC__10D1609FA102E542'. Cannot insert duplicate key in object 'webservice.CountryCat'. The duplicate key value is (1). (2627) (SQLExecDirectW); [23000] [Microsoft][ODBC Driver 17 for SQL Server][SQL Server]The statement has been terminated. (3621)\")\n[SQL: INSERT INTO [CountryCat] ([CountryId], [CountryCode], [CountryDesc]) VALUES (?, ?, ?), (?, ?, ?), (?, ?, ?), (?, ?, ?), (?, ?, ?), (?, ?, ?), (?, ?, ?), (?, ?, ?), (?, ?, ?), (?, ?, ?), (?, ?, ?), (?, ?, ?), (?, ?, ?), (?, ?, ?), (?, ?, ?), (?, ?, ?) ... 2397 characters truncated ... ), (?, ?, ?), (?, ?, ?), (?, ?, ?), (?, ?, ?), (?, ?, ?), (?, ?, ?), (?, ?, ?), (?, ?, ?), (?, ?, ?)]\n[parameters: (1, 'AE', 'United Arab Emirates', 2, 'AR', 'Argentina', 3, 'CO', 'Colombia', 4, 'CR', 'Costa Rica', 5, 'CZ', 'Czech Republic', 6, 'DE', 'Germany', 7, 'DO', 'Dominican Republic', 8, 'EG', 'Egypt', 9, 'ES', 'Spain', 10, 'FR', 'France', 11, 'GB', 'United Kingdom', 12, 'GT', 'Guatemala', 13, 'HT', 'Haití', 14, 'LV', 'Latvia', 15, 'MX', 'Mexico', 16, 'NI', 'Nicaragua', 17, 'PA' ... 629 parameters truncated ... 'VA', 'Vatican City', 228, 'VC', 'St. Vincent and the Grenadines', 229, 'VE', 'Venezuela', 230, 'VG', 'British Virgin Islands', 231, 'VI', 'American Virgin Islands', 232, 'VN', 'Vietnam', 233, 'VU', 'Vanuatu', 234, 'WF', 'Wallis and Futuna Islands', 235, 'WS', 'Western Samoa', 236, 'XK', 'KOSOVO', 237, 'YE', 'Yemen', 238, 'YT', 'Mayotte', 239, 'YU', 'Yugoslavia', 240, 'ZA', 'South Africa', 241, 'ZM', 'Zambia', 242, 'ZW', 'Zimbabwe', 999, 'XX', 'Dummy Country')]\n(Background on this error at: https://sqlalche.me/e/20/gkpj)",
     "output_type": "error",
     "traceback": [
      "\u001b[1;31m---------------------------------------------------------------------------\u001b[0m",
      "\u001b[1;31mIntegrityError\u001b[0m                            Traceback (most recent call last)",
      "File \u001b[1;32m~\\Documents\\cx_jupyter_utils\\venv\\Lib\\site-packages\\sqlalchemy\\engine\\base.py:2108\u001b[0m, in \u001b[0;36mConnection._exec_insertmany_context\u001b[1;34m(self, dialect, context)\u001b[0m\n\u001b[0;32m   2107\u001b[0m     \u001b[39melse\u001b[39;00m:\n\u001b[1;32m-> 2108\u001b[0m         dialect\u001b[39m.\u001b[39;49mdo_execute(\n\u001b[0;32m   2109\u001b[0m             cursor,\n\u001b[0;32m   2110\u001b[0m             sub_stmt,\n\u001b[0;32m   2111\u001b[0m             sub_params,\n\u001b[0;32m   2112\u001b[0m             context,\n\u001b[0;32m   2113\u001b[0m         )\n\u001b[0;32m   2115\u001b[0m \u001b[39mexcept\u001b[39;00m \u001b[39mBaseException\u001b[39;00m \u001b[39mas\u001b[39;00m e:\n",
      "File \u001b[1;32m~\\Documents\\cx_jupyter_utils\\venv\\Lib\\site-packages\\sqlalchemy\\engine\\default.py:921\u001b[0m, in \u001b[0;36mDefaultDialect.do_execute\u001b[1;34m(self, cursor, statement, parameters, context)\u001b[0m\n\u001b[0;32m    920\u001b[0m \u001b[39mdef\u001b[39;00m \u001b[39mdo_execute\u001b[39m(\u001b[39mself\u001b[39m, cursor, statement, parameters, context\u001b[39m=\u001b[39m\u001b[39mNone\u001b[39;00m):\n\u001b[1;32m--> 921\u001b[0m     cursor\u001b[39m.\u001b[39;49mexecute(statement, parameters)\n",
      "\u001b[1;31mIntegrityError\u001b[0m: ('23000', \"[23000] [Microsoft][ODBC Driver 17 for SQL Server][SQL Server]Violation of PRIMARY KEY constraint 'PK__CountryC__10D1609FA102E542'. Cannot insert duplicate key in object 'webservice.CountryCat'. The duplicate key value is (1). (2627) (SQLExecDirectW); [23000] [Microsoft][ODBC Driver 17 for SQL Server][SQL Server]The statement has been terminated. (3621)\")",
      "\nThe above exception was the direct cause of the following exception:\n",
      "\u001b[1;31mIntegrityError\u001b[0m                            Traceback (most recent call last)",
      "Cell \u001b[1;32mIn[5], line 8\u001b[0m\n\u001b[0;32m      2\u001b[0m     new_country \u001b[39m=\u001b[39m landing_tables\u001b[39m.\u001b[39mCountryCat(\n\u001b[0;32m      3\u001b[0m         CountryId\u001b[39m=\u001b[39mcountry\u001b[39m.\u001b[39mCountryId,\n\u001b[0;32m      4\u001b[0m         CountryCode\u001b[39m=\u001b[39mcountry\u001b[39m.\u001b[39mCountryCode,\n\u001b[0;32m      5\u001b[0m         CountryDesc\u001b[39m=\u001b[39mcountry\u001b[39m.\u001b[39mCountryDesc,\n\u001b[0;32m      6\u001b[0m     )\n\u001b[0;32m      7\u001b[0m     session_landing\u001b[39m.\u001b[39madd(new_country)\n\u001b[1;32m----> 8\u001b[0m session_landing\u001b[39m.\u001b[39;49mcommit()\n",
      "File \u001b[1;32m~\\Documents\\cx_jupyter_utils\\venv\\Lib\\site-packages\\sqlalchemy\\orm\\session.py:1920\u001b[0m, in \u001b[0;36mSession.commit\u001b[1;34m(self)\u001b[0m\n\u001b[0;32m   1917\u001b[0m \u001b[39mif\u001b[39;00m trans \u001b[39mis\u001b[39;00m \u001b[39mNone\u001b[39;00m:\n\u001b[0;32m   1918\u001b[0m     trans \u001b[39m=\u001b[39m \u001b[39mself\u001b[39m\u001b[39m.\u001b[39m_autobegin_t()\n\u001b[1;32m-> 1920\u001b[0m trans\u001b[39m.\u001b[39;49mcommit(_to_root\u001b[39m=\u001b[39;49m\u001b[39mTrue\u001b[39;49;00m)\n",
      "File \u001b[1;32m<string>:2\u001b[0m, in \u001b[0;36mcommit\u001b[1;34m(self, _to_root)\u001b[0m\n",
      "File \u001b[1;32m~\\Documents\\cx_jupyter_utils\\venv\\Lib\\site-packages\\sqlalchemy\\orm\\state_changes.py:139\u001b[0m, in \u001b[0;36m_StateChange.declare_states.<locals>._go\u001b[1;34m(fn, self, *arg, **kw)\u001b[0m\n\u001b[0;32m    137\u001b[0m \u001b[39mself\u001b[39m\u001b[39m.\u001b[39m_next_state \u001b[39m=\u001b[39m _StateChangeStates\u001b[39m.\u001b[39mCHANGE_IN_PROGRESS\n\u001b[0;32m    138\u001b[0m \u001b[39mtry\u001b[39;00m:\n\u001b[1;32m--> 139\u001b[0m     ret_value \u001b[39m=\u001b[39m fn(\u001b[39mself\u001b[39;49m, \u001b[39m*\u001b[39;49marg, \u001b[39m*\u001b[39;49m\u001b[39m*\u001b[39;49mkw)\n\u001b[0;32m    140\u001b[0m \u001b[39mexcept\u001b[39;00m:\n\u001b[0;32m    141\u001b[0m     \u001b[39mraise\u001b[39;00m\n",
      "File \u001b[1;32m~\\Documents\\cx_jupyter_utils\\venv\\Lib\\site-packages\\sqlalchemy\\orm\\session.py:1236\u001b[0m, in \u001b[0;36mSessionTransaction.commit\u001b[1;34m(self, _to_root)\u001b[0m\n\u001b[0;32m   1234\u001b[0m \u001b[39mif\u001b[39;00m \u001b[39mself\u001b[39m\u001b[39m.\u001b[39m_state \u001b[39mis\u001b[39;00m \u001b[39mnot\u001b[39;00m SessionTransactionState\u001b[39m.\u001b[39mPREPARED:\n\u001b[0;32m   1235\u001b[0m     \u001b[39mwith\u001b[39;00m \u001b[39mself\u001b[39m\u001b[39m.\u001b[39m_expect_state(SessionTransactionState\u001b[39m.\u001b[39mPREPARED):\n\u001b[1;32m-> 1236\u001b[0m         \u001b[39mself\u001b[39;49m\u001b[39m.\u001b[39;49m_prepare_impl()\n\u001b[0;32m   1238\u001b[0m \u001b[39mif\u001b[39;00m \u001b[39mself\u001b[39m\u001b[39m.\u001b[39m_parent \u001b[39mis\u001b[39;00m \u001b[39mNone\u001b[39;00m \u001b[39mor\u001b[39;00m \u001b[39mself\u001b[39m\u001b[39m.\u001b[39mnested:\n\u001b[0;32m   1239\u001b[0m     \u001b[39mfor\u001b[39;00m conn, trans, should_commit, autoclose \u001b[39min\u001b[39;00m \u001b[39mset\u001b[39m(\n\u001b[0;32m   1240\u001b[0m         \u001b[39mself\u001b[39m\u001b[39m.\u001b[39m_connections\u001b[39m.\u001b[39mvalues()\n\u001b[0;32m   1241\u001b[0m     ):\n",
      "File \u001b[1;32m<string>:2\u001b[0m, in \u001b[0;36m_prepare_impl\u001b[1;34m(self)\u001b[0m\n",
      "File \u001b[1;32m~\\Documents\\cx_jupyter_utils\\venv\\Lib\\site-packages\\sqlalchemy\\orm\\state_changes.py:139\u001b[0m, in \u001b[0;36m_StateChange.declare_states.<locals>._go\u001b[1;34m(fn, self, *arg, **kw)\u001b[0m\n\u001b[0;32m    137\u001b[0m \u001b[39mself\u001b[39m\u001b[39m.\u001b[39m_next_state \u001b[39m=\u001b[39m _StateChangeStates\u001b[39m.\u001b[39mCHANGE_IN_PROGRESS\n\u001b[0;32m    138\u001b[0m \u001b[39mtry\u001b[39;00m:\n\u001b[1;32m--> 139\u001b[0m     ret_value \u001b[39m=\u001b[39m fn(\u001b[39mself\u001b[39;49m, \u001b[39m*\u001b[39;49marg, \u001b[39m*\u001b[39;49m\u001b[39m*\u001b[39;49mkw)\n\u001b[0;32m    140\u001b[0m \u001b[39mexcept\u001b[39;00m:\n\u001b[0;32m    141\u001b[0m     \u001b[39mraise\u001b[39;00m\n",
      "File \u001b[1;32m~\\Documents\\cx_jupyter_utils\\venv\\Lib\\site-packages\\sqlalchemy\\orm\\session.py:1211\u001b[0m, in \u001b[0;36mSessionTransaction._prepare_impl\u001b[1;34m(self)\u001b[0m\n\u001b[0;32m   1209\u001b[0m     \u001b[39mif\u001b[39;00m \u001b[39mself\u001b[39m\u001b[39m.\u001b[39msession\u001b[39m.\u001b[39m_is_clean():\n\u001b[0;32m   1210\u001b[0m         \u001b[39mbreak\u001b[39;00m\n\u001b[1;32m-> 1211\u001b[0m     \u001b[39mself\u001b[39;49m\u001b[39m.\u001b[39;49msession\u001b[39m.\u001b[39;49mflush()\n\u001b[0;32m   1212\u001b[0m \u001b[39melse\u001b[39;00m:\n\u001b[0;32m   1213\u001b[0m     \u001b[39mraise\u001b[39;00m exc\u001b[39m.\u001b[39mFlushError(\n\u001b[0;32m   1214\u001b[0m         \u001b[39m\"\u001b[39m\u001b[39mOver 100 subsequent flushes have occurred within \u001b[39m\u001b[39m\"\u001b[39m\n\u001b[0;32m   1215\u001b[0m         \u001b[39m\"\u001b[39m\u001b[39msession.commit() - is an after_flush() hook \u001b[39m\u001b[39m\"\u001b[39m\n\u001b[0;32m   1216\u001b[0m         \u001b[39m\"\u001b[39m\u001b[39mcreating new objects?\u001b[39m\u001b[39m\"\u001b[39m\n\u001b[0;32m   1217\u001b[0m     )\n",
      "File \u001b[1;32m~\\Documents\\cx_jupyter_utils\\venv\\Lib\\site-packages\\sqlalchemy\\orm\\session.py:4163\u001b[0m, in \u001b[0;36mSession.flush\u001b[1;34m(self, objects)\u001b[0m\n\u001b[0;32m   4161\u001b[0m \u001b[39mtry\u001b[39;00m:\n\u001b[0;32m   4162\u001b[0m     \u001b[39mself\u001b[39m\u001b[39m.\u001b[39m_flushing \u001b[39m=\u001b[39m \u001b[39mTrue\u001b[39;00m\n\u001b[1;32m-> 4163\u001b[0m     \u001b[39mself\u001b[39;49m\u001b[39m.\u001b[39;49m_flush(objects)\n\u001b[0;32m   4164\u001b[0m \u001b[39mfinally\u001b[39;00m:\n\u001b[0;32m   4165\u001b[0m     \u001b[39mself\u001b[39m\u001b[39m.\u001b[39m_flushing \u001b[39m=\u001b[39m \u001b[39mFalse\u001b[39;00m\n",
      "File \u001b[1;32m~\\Documents\\cx_jupyter_utils\\venv\\Lib\\site-packages\\sqlalchemy\\orm\\session.py:4298\u001b[0m, in \u001b[0;36mSession._flush\u001b[1;34m(self, objects)\u001b[0m\n\u001b[0;32m   4295\u001b[0m     transaction\u001b[39m.\u001b[39mcommit()\n\u001b[0;32m   4297\u001b[0m \u001b[39mexcept\u001b[39;00m:\n\u001b[1;32m-> 4298\u001b[0m     \u001b[39mwith\u001b[39;49;00m util\u001b[39m.\u001b[39;49msafe_reraise():\n\u001b[0;32m   4299\u001b[0m         transaction\u001b[39m.\u001b[39;49mrollback(_capture_exception\u001b[39m=\u001b[39;49m\u001b[39mTrue\u001b[39;49;00m)\n",
      "File \u001b[1;32m~\\Documents\\cx_jupyter_utils\\venv\\Lib\\site-packages\\sqlalchemy\\util\\langhelpers.py:147\u001b[0m, in \u001b[0;36msafe_reraise.__exit__\u001b[1;34m(self, type_, value, traceback)\u001b[0m\n\u001b[0;32m    145\u001b[0m     \u001b[39massert\u001b[39;00m exc_value \u001b[39mis\u001b[39;00m \u001b[39mnot\u001b[39;00m \u001b[39mNone\u001b[39;00m\n\u001b[0;32m    146\u001b[0m     \u001b[39mself\u001b[39m\u001b[39m.\u001b[39m_exc_info \u001b[39m=\u001b[39m \u001b[39mNone\u001b[39;00m  \u001b[39m# remove potential circular references\u001b[39;00m\n\u001b[1;32m--> 147\u001b[0m     \u001b[39mraise\u001b[39;00m exc_value\u001b[39m.\u001b[39mwith_traceback(exc_tb)\n\u001b[0;32m    148\u001b[0m \u001b[39melse\u001b[39;00m:\n\u001b[0;32m    149\u001b[0m     \u001b[39mself\u001b[39m\u001b[39m.\u001b[39m_exc_info \u001b[39m=\u001b[39m \u001b[39mNone\u001b[39;00m  \u001b[39m# remove potential circular references\u001b[39;00m\n",
      "File \u001b[1;32m~\\Documents\\cx_jupyter_utils\\venv\\Lib\\site-packages\\sqlalchemy\\orm\\session.py:4259\u001b[0m, in \u001b[0;36mSession._flush\u001b[1;34m(self, objects)\u001b[0m\n\u001b[0;32m   4257\u001b[0m \u001b[39mself\u001b[39m\u001b[39m.\u001b[39m_warn_on_events \u001b[39m=\u001b[39m \u001b[39mTrue\u001b[39;00m\n\u001b[0;32m   4258\u001b[0m \u001b[39mtry\u001b[39;00m:\n\u001b[1;32m-> 4259\u001b[0m     flush_context\u001b[39m.\u001b[39;49mexecute()\n\u001b[0;32m   4260\u001b[0m \u001b[39mfinally\u001b[39;00m:\n\u001b[0;32m   4261\u001b[0m     \u001b[39mself\u001b[39m\u001b[39m.\u001b[39m_warn_on_events \u001b[39m=\u001b[39m \u001b[39mFalse\u001b[39;00m\n",
      "File \u001b[1;32m~\\Documents\\cx_jupyter_utils\\venv\\Lib\\site-packages\\sqlalchemy\\orm\\unitofwork.py:466\u001b[0m, in \u001b[0;36mUOWTransaction.execute\u001b[1;34m(self)\u001b[0m\n\u001b[0;32m    464\u001b[0m \u001b[39melse\u001b[39;00m:\n\u001b[0;32m    465\u001b[0m     \u001b[39mfor\u001b[39;00m rec \u001b[39min\u001b[39;00m topological\u001b[39m.\u001b[39msort(\u001b[39mself\u001b[39m\u001b[39m.\u001b[39mdependencies, postsort_actions):\n\u001b[1;32m--> 466\u001b[0m         rec\u001b[39m.\u001b[39;49mexecute(\u001b[39mself\u001b[39;49m)\n",
      "File \u001b[1;32m~\\Documents\\cx_jupyter_utils\\venv\\Lib\\site-packages\\sqlalchemy\\orm\\unitofwork.py:642\u001b[0m, in \u001b[0;36mSaveUpdateAll.execute\u001b[1;34m(self, uow)\u001b[0m\n\u001b[0;32m    640\u001b[0m \u001b[39m@util\u001b[39m\u001b[39m.\u001b[39mpreload_module(\u001b[39m\"\u001b[39m\u001b[39msqlalchemy.orm.persistence\u001b[39m\u001b[39m\"\u001b[39m)\n\u001b[0;32m    641\u001b[0m \u001b[39mdef\u001b[39;00m \u001b[39mexecute\u001b[39m(\u001b[39mself\u001b[39m, uow):\n\u001b[1;32m--> 642\u001b[0m     util\u001b[39m.\u001b[39;49mpreloaded\u001b[39m.\u001b[39;49morm_persistence\u001b[39m.\u001b[39;49msave_obj(\n\u001b[0;32m    643\u001b[0m         \u001b[39mself\u001b[39;49m\u001b[39m.\u001b[39;49mmapper,\n\u001b[0;32m    644\u001b[0m         uow\u001b[39m.\u001b[39;49mstates_for_mapper_hierarchy(\u001b[39mself\u001b[39;49m\u001b[39m.\u001b[39;49mmapper, \u001b[39mFalse\u001b[39;49;00m, \u001b[39mFalse\u001b[39;49;00m),\n\u001b[0;32m    645\u001b[0m         uow,\n\u001b[0;32m    646\u001b[0m     )\n",
      "File \u001b[1;32m~\\Documents\\cx_jupyter_utils\\venv\\Lib\\site-packages\\sqlalchemy\\orm\\persistence.py:93\u001b[0m, in \u001b[0;36msave_obj\u001b[1;34m(base_mapper, states, uowtransaction, single)\u001b[0m\n\u001b[0;32m     81\u001b[0m     update \u001b[39m=\u001b[39m _collect_update_commands(\n\u001b[0;32m     82\u001b[0m         uowtransaction, table, states_to_update\n\u001b[0;32m     83\u001b[0m     )\n\u001b[0;32m     85\u001b[0m     _emit_update_statements(\n\u001b[0;32m     86\u001b[0m         base_mapper,\n\u001b[0;32m     87\u001b[0m         uowtransaction,\n\u001b[1;32m   (...)\u001b[0m\n\u001b[0;32m     90\u001b[0m         update,\n\u001b[0;32m     91\u001b[0m     )\n\u001b[1;32m---> 93\u001b[0m     _emit_insert_statements(\n\u001b[0;32m     94\u001b[0m         base_mapper,\n\u001b[0;32m     95\u001b[0m         uowtransaction,\n\u001b[0;32m     96\u001b[0m         mapper,\n\u001b[0;32m     97\u001b[0m         table,\n\u001b[0;32m     98\u001b[0m         insert,\n\u001b[0;32m     99\u001b[0m     )\n\u001b[0;32m    101\u001b[0m _finalize_insert_update_commands(\n\u001b[0;32m    102\u001b[0m     base_mapper,\n\u001b[0;32m    103\u001b[0m     uowtransaction,\n\u001b[1;32m   (...)\u001b[0m\n\u001b[0;32m    119\u001b[0m     ),\n\u001b[0;32m    120\u001b[0m )\n",
      "File \u001b[1;32m~\\Documents\\cx_jupyter_utils\\venv\\Lib\\site-packages\\sqlalchemy\\orm\\persistence.py:1043\u001b[0m, in \u001b[0;36m_emit_insert_statements\u001b[1;34m(base_mapper, uowtransaction, mapper, table, insert, bookkeeping, use_orm_insert_stmt, execution_options)\u001b[0m\n\u001b[0;32m   1040\u001b[0m records \u001b[39m=\u001b[39m \u001b[39mlist\u001b[39m(records)\n\u001b[0;32m   1041\u001b[0m multiparams \u001b[39m=\u001b[39m [rec[\u001b[39m2\u001b[39m] \u001b[39mfor\u001b[39;00m rec \u001b[39min\u001b[39;00m records]\n\u001b[1;32m-> 1043\u001b[0m result \u001b[39m=\u001b[39m connection\u001b[39m.\u001b[39;49mexecute(\n\u001b[0;32m   1044\u001b[0m     statement, multiparams, execution_options\u001b[39m=\u001b[39;49mexecution_options\n\u001b[0;32m   1045\u001b[0m )\n\u001b[0;32m   1046\u001b[0m \u001b[39mif\u001b[39;00m bookkeeping:\n\u001b[0;32m   1047\u001b[0m     \u001b[39mfor\u001b[39;00m (\n\u001b[0;32m   1048\u001b[0m         (\n\u001b[0;32m   1049\u001b[0m             state,\n\u001b[1;32m   (...)\u001b[0m\n\u001b[0;32m   1058\u001b[0m         last_inserted_params,\n\u001b[0;32m   1059\u001b[0m     ) \u001b[39min\u001b[39;00m \u001b[39mzip\u001b[39m(records, result\u001b[39m.\u001b[39mcontext\u001b[39m.\u001b[39mcompiled_parameters):\n",
      "File \u001b[1;32m~\\Documents\\cx_jupyter_utils\\venv\\Lib\\site-packages\\sqlalchemy\\engine\\base.py:1412\u001b[0m, in \u001b[0;36mConnection.execute\u001b[1;34m(self, statement, parameters, execution_options)\u001b[0m\n\u001b[0;32m   1410\u001b[0m     \u001b[39mraise\u001b[39;00m exc\u001b[39m.\u001b[39mObjectNotExecutableError(statement) \u001b[39mfrom\u001b[39;00m \u001b[39merr\u001b[39;00m\n\u001b[0;32m   1411\u001b[0m \u001b[39melse\u001b[39;00m:\n\u001b[1;32m-> 1412\u001b[0m     \u001b[39mreturn\u001b[39;00m meth(\n\u001b[0;32m   1413\u001b[0m         \u001b[39mself\u001b[39;49m,\n\u001b[0;32m   1414\u001b[0m         distilled_parameters,\n\u001b[0;32m   1415\u001b[0m         execution_options \u001b[39mor\u001b[39;49;00m NO_OPTIONS,\n\u001b[0;32m   1416\u001b[0m     )\n",
      "File \u001b[1;32m~\\Documents\\cx_jupyter_utils\\venv\\Lib\\site-packages\\sqlalchemy\\sql\\elements.py:483\u001b[0m, in \u001b[0;36mClauseElement._execute_on_connection\u001b[1;34m(self, connection, distilled_params, execution_options)\u001b[0m\n\u001b[0;32m    481\u001b[0m     \u001b[39mif\u001b[39;00m TYPE_CHECKING:\n\u001b[0;32m    482\u001b[0m         \u001b[39massert\u001b[39;00m \u001b[39misinstance\u001b[39m(\u001b[39mself\u001b[39m, Executable)\n\u001b[1;32m--> 483\u001b[0m     \u001b[39mreturn\u001b[39;00m connection\u001b[39m.\u001b[39;49m_execute_clauseelement(\n\u001b[0;32m    484\u001b[0m         \u001b[39mself\u001b[39;49m, distilled_params, execution_options\n\u001b[0;32m    485\u001b[0m     )\n\u001b[0;32m    486\u001b[0m \u001b[39melse\u001b[39;00m:\n\u001b[0;32m    487\u001b[0m     \u001b[39mraise\u001b[39;00m exc\u001b[39m.\u001b[39mObjectNotExecutableError(\u001b[39mself\u001b[39m)\n",
      "File \u001b[1;32m~\\Documents\\cx_jupyter_utils\\venv\\Lib\\site-packages\\sqlalchemy\\engine\\base.py:1635\u001b[0m, in \u001b[0;36mConnection._execute_clauseelement\u001b[1;34m(self, elem, distilled_parameters, execution_options)\u001b[0m\n\u001b[0;32m   1623\u001b[0m compiled_cache: Optional[CompiledCacheType] \u001b[39m=\u001b[39m execution_options\u001b[39m.\u001b[39mget(\n\u001b[0;32m   1624\u001b[0m     \u001b[39m\"\u001b[39m\u001b[39mcompiled_cache\u001b[39m\u001b[39m\"\u001b[39m, \u001b[39mself\u001b[39m\u001b[39m.\u001b[39mengine\u001b[39m.\u001b[39m_compiled_cache\n\u001b[0;32m   1625\u001b[0m )\n\u001b[0;32m   1627\u001b[0m compiled_sql, extracted_params, cache_hit \u001b[39m=\u001b[39m elem\u001b[39m.\u001b[39m_compile_w_cache(\n\u001b[0;32m   1628\u001b[0m     dialect\u001b[39m=\u001b[39mdialect,\n\u001b[0;32m   1629\u001b[0m     compiled_cache\u001b[39m=\u001b[39mcompiled_cache,\n\u001b[1;32m   (...)\u001b[0m\n\u001b[0;32m   1633\u001b[0m     linting\u001b[39m=\u001b[39m\u001b[39mself\u001b[39m\u001b[39m.\u001b[39mdialect\u001b[39m.\u001b[39mcompiler_linting \u001b[39m|\u001b[39m compiler\u001b[39m.\u001b[39mWARN_LINTING,\n\u001b[0;32m   1634\u001b[0m )\n\u001b[1;32m-> 1635\u001b[0m ret \u001b[39m=\u001b[39m \u001b[39mself\u001b[39;49m\u001b[39m.\u001b[39;49m_execute_context(\n\u001b[0;32m   1636\u001b[0m     dialect,\n\u001b[0;32m   1637\u001b[0m     dialect\u001b[39m.\u001b[39;49mexecution_ctx_cls\u001b[39m.\u001b[39;49m_init_compiled,\n\u001b[0;32m   1638\u001b[0m     compiled_sql,\n\u001b[0;32m   1639\u001b[0m     distilled_parameters,\n\u001b[0;32m   1640\u001b[0m     execution_options,\n\u001b[0;32m   1641\u001b[0m     compiled_sql,\n\u001b[0;32m   1642\u001b[0m     distilled_parameters,\n\u001b[0;32m   1643\u001b[0m     elem,\n\u001b[0;32m   1644\u001b[0m     extracted_params,\n\u001b[0;32m   1645\u001b[0m     cache_hit\u001b[39m=\u001b[39;49mcache_hit,\n\u001b[0;32m   1646\u001b[0m )\n\u001b[0;32m   1647\u001b[0m \u001b[39mif\u001b[39;00m has_events:\n\u001b[0;32m   1648\u001b[0m     \u001b[39mself\u001b[39m\u001b[39m.\u001b[39mdispatch\u001b[39m.\u001b[39mafter_execute(\n\u001b[0;32m   1649\u001b[0m         \u001b[39mself\u001b[39m,\n\u001b[0;32m   1650\u001b[0m         elem,\n\u001b[1;32m   (...)\u001b[0m\n\u001b[0;32m   1654\u001b[0m         ret,\n\u001b[0;32m   1655\u001b[0m     )\n",
      "File \u001b[1;32m~\\Documents\\cx_jupyter_utils\\venv\\Lib\\site-packages\\sqlalchemy\\engine\\base.py:1839\u001b[0m, in \u001b[0;36mConnection._execute_context\u001b[1;34m(self, dialect, constructor, statement, parameters, execution_options, *args, **kw)\u001b[0m\n\u001b[0;32m   1836\u001b[0m context\u001b[39m.\u001b[39mpre_exec()\n\u001b[0;32m   1838\u001b[0m \u001b[39mif\u001b[39;00m context\u001b[39m.\u001b[39mexecute_style \u001b[39mis\u001b[39;00m ExecuteStyle\u001b[39m.\u001b[39mINSERTMANYVALUES:\n\u001b[1;32m-> 1839\u001b[0m     \u001b[39mreturn\u001b[39;00m \u001b[39mself\u001b[39;49m\u001b[39m.\u001b[39;49m_exec_insertmany_context(\n\u001b[0;32m   1840\u001b[0m         dialect,\n\u001b[0;32m   1841\u001b[0m         context,\n\u001b[0;32m   1842\u001b[0m     )\n\u001b[0;32m   1843\u001b[0m \u001b[39melse\u001b[39;00m:\n\u001b[0;32m   1844\u001b[0m     \u001b[39mreturn\u001b[39;00m \u001b[39mself\u001b[39m\u001b[39m.\u001b[39m_exec_single_context(\n\u001b[0;32m   1845\u001b[0m         dialect, context, statement, parameters\n\u001b[0;32m   1846\u001b[0m     )\n",
      "File \u001b[1;32m~\\Documents\\cx_jupyter_utils\\venv\\Lib\\site-packages\\sqlalchemy\\engine\\base.py:2116\u001b[0m, in \u001b[0;36mConnection._exec_insertmany_context\u001b[1;34m(self, dialect, context)\u001b[0m\n\u001b[0;32m   2108\u001b[0m         dialect\u001b[39m.\u001b[39mdo_execute(\n\u001b[0;32m   2109\u001b[0m             cursor,\n\u001b[0;32m   2110\u001b[0m             sub_stmt,\n\u001b[0;32m   2111\u001b[0m             sub_params,\n\u001b[0;32m   2112\u001b[0m             context,\n\u001b[0;32m   2113\u001b[0m         )\n\u001b[0;32m   2115\u001b[0m \u001b[39mexcept\u001b[39;00m \u001b[39mBaseException\u001b[39;00m \u001b[39mas\u001b[39;00m e:\n\u001b[1;32m-> 2116\u001b[0m     \u001b[39mself\u001b[39;49m\u001b[39m.\u001b[39;49m_handle_dbapi_exception(\n\u001b[0;32m   2117\u001b[0m         e,\n\u001b[0;32m   2118\u001b[0m         sql_util\u001b[39m.\u001b[39;49m_long_statement(sub_stmt),\n\u001b[0;32m   2119\u001b[0m         sub_params,\n\u001b[0;32m   2120\u001b[0m         cursor,\n\u001b[0;32m   2121\u001b[0m         context,\n\u001b[0;32m   2122\u001b[0m         is_sub_exec\u001b[39m=\u001b[39;49m\u001b[39mTrue\u001b[39;49;00m,\n\u001b[0;32m   2123\u001b[0m     )\n\u001b[0;32m   2125\u001b[0m \u001b[39mif\u001b[39;00m engine_events:\n\u001b[0;32m   2126\u001b[0m     \u001b[39mself\u001b[39m\u001b[39m.\u001b[39mdispatch\u001b[39m.\u001b[39mafter_cursor_execute(\n\u001b[0;32m   2127\u001b[0m         \u001b[39mself\u001b[39m,\n\u001b[0;32m   2128\u001b[0m         cursor,\n\u001b[1;32m   (...)\u001b[0m\n\u001b[0;32m   2132\u001b[0m         context\u001b[39m.\u001b[39mexecutemany,\n\u001b[0;32m   2133\u001b[0m     )\n",
      "File \u001b[1;32m~\\Documents\\cx_jupyter_utils\\venv\\Lib\\site-packages\\sqlalchemy\\engine\\base.py:2339\u001b[0m, in \u001b[0;36mConnection._handle_dbapi_exception\u001b[1;34m(self, e, statement, parameters, cursor, context, is_sub_exec)\u001b[0m\n\u001b[0;32m   2337\u001b[0m \u001b[39melif\u001b[39;00m should_wrap:\n\u001b[0;32m   2338\u001b[0m     \u001b[39massert\u001b[39;00m sqlalchemy_exception \u001b[39mis\u001b[39;00m \u001b[39mnot\u001b[39;00m \u001b[39mNone\u001b[39;00m\n\u001b[1;32m-> 2339\u001b[0m     \u001b[39mraise\u001b[39;00m sqlalchemy_exception\u001b[39m.\u001b[39mwith_traceback(exc_info[\u001b[39m2\u001b[39m]) \u001b[39mfrom\u001b[39;00m \u001b[39me\u001b[39;00m\n\u001b[0;32m   2340\u001b[0m \u001b[39melse\u001b[39;00m:\n\u001b[0;32m   2341\u001b[0m     \u001b[39massert\u001b[39;00m exc_info[\u001b[39m1\u001b[39m] \u001b[39mis\u001b[39;00m \u001b[39mnot\u001b[39;00m \u001b[39mNone\u001b[39;00m\n",
      "File \u001b[1;32m~\\Documents\\cx_jupyter_utils\\venv\\Lib\\site-packages\\sqlalchemy\\engine\\base.py:2108\u001b[0m, in \u001b[0;36mConnection._exec_insertmany_context\u001b[1;34m(self, dialect, context)\u001b[0m\n\u001b[0;32m   2106\u001b[0m             \u001b[39mbreak\u001b[39;00m\n\u001b[0;32m   2107\u001b[0m     \u001b[39melse\u001b[39;00m:\n\u001b[1;32m-> 2108\u001b[0m         dialect\u001b[39m.\u001b[39;49mdo_execute(\n\u001b[0;32m   2109\u001b[0m             cursor,\n\u001b[0;32m   2110\u001b[0m             sub_stmt,\n\u001b[0;32m   2111\u001b[0m             sub_params,\n\u001b[0;32m   2112\u001b[0m             context,\n\u001b[0;32m   2113\u001b[0m         )\n\u001b[0;32m   2115\u001b[0m \u001b[39mexcept\u001b[39;00m \u001b[39mBaseException\u001b[39;00m \u001b[39mas\u001b[39;00m e:\n\u001b[0;32m   2116\u001b[0m     \u001b[39mself\u001b[39m\u001b[39m.\u001b[39m_handle_dbapi_exception(\n\u001b[0;32m   2117\u001b[0m         e,\n\u001b[0;32m   2118\u001b[0m         sql_util\u001b[39m.\u001b[39m_long_statement(sub_stmt),\n\u001b[1;32m   (...)\u001b[0m\n\u001b[0;32m   2122\u001b[0m         is_sub_exec\u001b[39m=\u001b[39m\u001b[39mTrue\u001b[39;00m,\n\u001b[0;32m   2123\u001b[0m     )\n",
      "File \u001b[1;32m~\\Documents\\cx_jupyter_utils\\venv\\Lib\\site-packages\\sqlalchemy\\engine\\default.py:921\u001b[0m, in \u001b[0;36mDefaultDialect.do_execute\u001b[1;34m(self, cursor, statement, parameters, context)\u001b[0m\n\u001b[0;32m    920\u001b[0m \u001b[39mdef\u001b[39;00m \u001b[39mdo_execute\u001b[39m(\u001b[39mself\u001b[39m, cursor, statement, parameters, context\u001b[39m=\u001b[39m\u001b[39mNone\u001b[39;00m):\n\u001b[1;32m--> 921\u001b[0m     cursor\u001b[39m.\u001b[39;49mexecute(statement, parameters)\n",
      "\u001b[1;31mIntegrityError\u001b[0m: (pyodbc.IntegrityError) ('23000', \"[23000] [Microsoft][ODBC Driver 17 for SQL Server][SQL Server]Violation of PRIMARY KEY constraint 'PK__CountryC__10D1609FA102E542'. Cannot insert duplicate key in object 'webservice.CountryCat'. The duplicate key value is (1). (2627) (SQLExecDirectW); [23000] [Microsoft][ODBC Driver 17 for SQL Server][SQL Server]The statement has been terminated. (3621)\")\n[SQL: INSERT INTO [CountryCat] ([CountryId], [CountryCode], [CountryDesc]) VALUES (?, ?, ?), (?, ?, ?), (?, ?, ?), (?, ?, ?), (?, ?, ?), (?, ?, ?), (?, ?, ?), (?, ?, ?), (?, ?, ?), (?, ?, ?), (?, ?, ?), (?, ?, ?), (?, ?, ?), (?, ?, ?), (?, ?, ?), (?, ?, ?) ... 2397 characters truncated ... ), (?, ?, ?), (?, ?, ?), (?, ?, ?), (?, ?, ?), (?, ?, ?), (?, ?, ?), (?, ?, ?), (?, ?, ?), (?, ?, ?)]\n[parameters: (1, 'AE', 'United Arab Emirates', 2, 'AR', 'Argentina', 3, 'CO', 'Colombia', 4, 'CR', 'Costa Rica', 5, 'CZ', 'Czech Republic', 6, 'DE', 'Germany', 7, 'DO', 'Dominican Republic', 8, 'EG', 'Egypt', 9, 'ES', 'Spain', 10, 'FR', 'France', 11, 'GB', 'United Kingdom', 12, 'GT', 'Guatemala', 13, 'HT', 'Haití', 14, 'LV', 'Latvia', 15, 'MX', 'Mexico', 16, 'NI', 'Nicaragua', 17, 'PA' ... 629 parameters truncated ... 'VA', 'Vatican City', 228, 'VC', 'St. Vincent and the Grenadines', 229, 'VE', 'Venezuela', 230, 'VG', 'British Virgin Islands', 231, 'VI', 'American Virgin Islands', 232, 'VN', 'Vietnam', 233, 'VU', 'Vanuatu', 234, 'WF', 'Wallis and Futuna Islands', 235, 'WS', 'Western Samoa', 236, 'XK', 'KOSOVO', 237, 'YE', 'Yemen', 238, 'YT', 'Mayotte', 239, 'YU', 'Yugoslavia', 240, 'ZA', 'South Africa', 241, 'ZM', 'Zambia', 242, 'ZW', 'Zimbabwe', 999, 'XX', 'Dummy Country')]\n(Background on this error at: https://sqlalche.me/e/20/gkpj)"
     ]
    }
   ],
   "source": [
    "for country in rmx_countries:\n",
    "    new_country = landing_tables.CountryCat(\n",
    "        CountryId=country.CountryId,\n",
    "        CountryCode=country.CountryCode,\n",
    "        CountryDesc=country.CountryDesc,\n",
    "    )\n",
    "    session_landing.add(new_country)\n",
    "session_landing.commit()"
   ]
  },
  {
   "cell_type": "code",
   "execution_count": 8,
   "id": "fff0b52f",
   "metadata": {},
   "outputs": [],
   "source": [
    "for group in rmx_groups:\n",
    "    new_group = landing_tables.GroupTbl(\n",
    "        GroupId=group.GroupId,\n",
    "        GroupCode=group.GroupCode,\n",
    "        GroupDesc=group.GroupDesc,\n",
    "        DateCreate=group.DateCreate,\n",
    "        DateUpdate=group.DateUpdate,\n",
    "        CountryId=group.CountryId\n",
    "    )\n",
    "    # Add the new group to the Landing session\n",
    "    session_landing.add(new_group)\n",
    "session_landing.commit()"
   ]
  },
  {
   "cell_type": "code",
   "execution_count": 5,
   "id": "364dfbaa",
   "metadata": {},
   "outputs": [],
   "source": [
    "for subgroup in rmx_subgroups:\n",
    "    new_subgroup = landing_tables.SubGroupTbl(\n",
    "        SubGroupId=subgroup.SubGroupId,\n",
    "        GroupId=subgroup.GroupId,\n",
    "        SubGroupCode=subgroup.SubGroupCode,\n",
    "        SubGroupDesc=subgroup.SubGroupDesc,\n",
    "        DateCreate=subgroup.DateCreate,\n",
    "        DateUpdate=subgroup.DateUpdate\n",
    "    )\n",
    "    # Add the new subgroup to the Landing session\n",
    "    session_landing.add(new_subgroup)\n",
    "session_landing.commit()"
   ]
  },
  {
   "cell_type": "code",
   "execution_count": null,
   "id": "138d7dda",
   "metadata": {},
   "outputs": [],
   "source": [
    "def has_user_access():\n",
    "    pass\n"
   ]
  },
  {
   "cell_type": "code",
   "execution_count": null,
   "id": "aae48850",
   "metadata": {},
   "outputs": [],
   "source": [
    "PROJECT_NAME = \"OFFER_ENABLEMENT\"\n",
    "session_landing\n",
    "email = \"bernardo@ext.cemex.com\"\n",
    "subgroup_code = \"0101\"\n",
    "\n",
    "\n",
    "\n",
    "_role = \"ADMIN\"\n",
    "\n",
    "\n"
   ]
  }
 ],
 "metadata": {
  "kernelspec": {
   "display_name": "Python 3 (ipykernel)",
   "language": "python",
   "name": "python3"
  },
  "language_info": {
   "codemirror_mode": {
    "name": "ipython",
    "version": 3
   },
   "file_extension": ".py",
   "mimetype": "text/x-python",
   "name": "python",
   "nbconvert_exporter": "python",
   "pygments_lexer": "ipython3",
   "version": "3.11.3"
  }
 },
 "nbformat": 4,
 "nbformat_minor": 5
}
